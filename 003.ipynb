{
 "cells": [
  {
   "cell_type": "markdown",
   "metadata": {},
   "source": [
    "# Prepare zero-shot split \n",
    "Based on the paper: Bansal, Ankan, et al. \"Zero-shot object detection.\" Proceedings of the European Conference on Computer Vision (ECCV). 2018."
   ]
  },
  {
   "cell_type": "code",
   "execution_count": 1,
   "metadata": {},
   "outputs": [],
   "source": [
    "import json"
   ]
  },
  {
   "cell_type": "code",
   "execution_count": 2,
   "metadata": {},
   "outputs": [],
   "source": [
    "import numpy as np"
   ]
  },
  {
   "cell_type": "code",
   "execution_count": 3,
   "metadata": {},
   "outputs": [
    {
     "name": "stderr",
     "output_type": "stream",
     "text": [
      "/workspace/anaconda3/envs/codet/lib/python3.8/site-packages/tqdm/auto.py:21: TqdmWarning: IProgress not found. Please update jupyter and ipywidgets. See https://ipywidgets.readthedocs.io/en/stable/user_install.html\n",
      "  from .autonotebook import tqdm as notebook_tqdm\n"
     ]
    }
   ],
   "source": [
    "import torch"
   ]
  },
  {
   "cell_type": "code",
   "execution_count": 4,
   "metadata": {},
   "outputs": [],
   "source": [
    "from maskrcnn_benchmark.config import cfg\n",
    "from maskrcnn_benchmark.modeling.language_backbone.transformers import BERT"
   ]
  },
  {
   "cell_type": "code",
   "execution_count": null,
   "metadata": {},
   "outputs": [],
   "source": []
  },
  {
   "cell_type": "code",
   "execution_count": 5,
   "metadata": {},
   "outputs": [],
   "source": [
    "with open('datasets/vindr/annotations/train_instances_coco.json', 'r') as fin:\n",
    "    coco_train_anno_all = json.load(fin)"
   ]
  },
  {
   "cell_type": "code",
   "execution_count": 6,
   "metadata": {},
   "outputs": [],
   "source": [
    "with open('datasets/vindr/annotations/train_instances_coco.json', 'r') as fin:\n",
    "    coco_train_anno_seen = json.load(fin)"
   ]
  },
  {
   "cell_type": "code",
   "execution_count": 7,
   "metadata": {},
   "outputs": [],
   "source": [
    "with open('datasets/vindr/annotations/train_instances_coco.json', 'r') as fin:\n",
    "    coco_train_anno_unseen = json.load(fin)"
   ]
  },
  {
   "cell_type": "code",
   "execution_count": 8,
   "metadata": {},
   "outputs": [],
   "source": [
    "with open('datasets/vindr/annotations/val_instances_coco.json', 'r') as fin:\n",
    "    coco_val_anno_all = json.load(fin)"
   ]
  },
  {
   "cell_type": "code",
   "execution_count": 9,
   "metadata": {},
   "outputs": [],
   "source": [
    "with open('datasets/vindr/annotations/val_instances_coco.json', 'r') as fin:\n",
    "    coco_val_anno_seen = json.load(fin)"
   ]
  },
  {
   "cell_type": "code",
   "execution_count": 10,
   "metadata": {},
   "outputs": [],
   "source": [
    "with open('datasets/vindr/annotations/val_instances_coco.json', 'r') as fin:\n",
    "    coco_val_anno_unseen = json.load(fin)"
   ]
  },
  {
   "cell_type": "code",
   "execution_count": null,
   "metadata": {},
   "outputs": [],
   "source": []
  },
  {
   "cell_type": "code",
   "execution_count": 11,
   "metadata": {},
   "outputs": [],
   "source": [
    "with open('datasets/vindr/zero-shot/vindr_seen_classes.json', 'r') as fin:\n",
    "    labels_seen = json.load(fin)"
   ]
  },
  {
   "cell_type": "code",
   "execution_count": 12,
   "metadata": {},
   "outputs": [],
   "source": [
    "with open('datasets/vindr/zero-shot/vindr_unseen_classes.json', 'r') as fin:\n",
    "    labels_unseen = json.load(fin)"
   ]
  },
  {
   "cell_type": "code",
   "execution_count": 13,
   "metadata": {},
   "outputs": [
    {
     "data": {
      "text/plain": [
       "(15, 0)"
      ]
     },
     "execution_count": 13,
     "metadata": {},
     "output_type": "execute_result"
    }
   ],
   "source": [
    "len(labels_seen), len(labels_unseen)"
   ]
  },
  {
   "cell_type": "code",
   "execution_count": 14,
   "metadata": {},
   "outputs": [],
   "source": [
    "labels_all = [item['name'] for item in coco_val_anno_all['categories']]"
   ]
  },
  {
   "cell_type": "code",
   "execution_count": null,
   "metadata": {},
   "outputs": [],
   "source": []
  },
  {
   "cell_type": "code",
   "execution_count": 15,
   "metadata": {},
   "outputs": [
    {
     "data": {
      "text/plain": [
       "set()"
      ]
     },
     "execution_count": 15,
     "metadata": {},
     "output_type": "execute_result"
    }
   ],
   "source": [
    "set(labels_seen) - set(labels_all)"
   ]
  },
  {
   "cell_type": "code",
   "execution_count": 16,
   "metadata": {},
   "outputs": [
    {
     "data": {
      "text/plain": [
       "set()"
      ]
     },
     "execution_count": 16,
     "metadata": {},
     "output_type": "execute_result"
    }
   ],
   "source": [
    "set(labels_unseen) - set(labels_all)"
   ]
  },
  {
   "cell_type": "code",
   "execution_count": 17,
   "metadata": {
    "scrolled": true
   },
   "outputs": [
    {
     "name": "stdout",
     "output_type": "stream",
     "text": [
      "[{'id': 0, 'name': 'Aortic enlargement', 'supercategory': ''}, {'id': 13, 'name': 'Pulmonary fibrosis', 'supercategory': ''}, {'id': 3, 'name': 'Cardiomegaly', 'supercategory': ''}, {'id': 14, 'name': 'No finding', 'supercategory': ''}, {'id': 11, 'name': 'Pleural thickening', 'supercategory': ''}, {'id': 9, 'name': 'Other lesion', 'supercategory': ''}, {'id': 1, 'name': 'Atelectasis', 'supercategory': ''}, {'id': 6, 'name': 'Infiltration', 'supercategory': ''}, {'id': 7, 'name': 'Lung Opacity', 'supercategory': ''}, {'id': 10, 'name': 'Pleural effusion', 'supercategory': ''}, {'id': 8, 'name': 'Nodule/Mass', 'supercategory': ''}, {'id': 4, 'name': 'Consolidation', 'supercategory': ''}, {'id': 5, 'name': 'ILD', 'supercategory': ''}, {'id': 12, 'name': 'Pneumothorax', 'supercategory': ''}, {'id': 2, 'name': 'Calcification', 'supercategory': ''}]\n"
     ]
    }
   ],
   "source": [
    "print(coco_val_anno_all['categories'])"
   ]
  },
  {
   "cell_type": "code",
   "execution_count": 18,
   "metadata": {},
   "outputs": [],
   "source": [
    "class_id_to_split = {}\n",
    "class_name_to_split = {}\n",
    "for item in coco_val_anno_all['categories']:\n",
    "    if item['name'] in labels_seen:\n",
    "        class_id_to_split[item['id']] = 'seen'\n",
    "        class_name_to_split[item['name']] = 'seen'\n",
    "    elif item['name'] in labels_unseen:\n",
    "        class_id_to_split[item['id']] = 'unseen'\n",
    "        class_name_to_split[item['name']] = 'unseen'\n"
   ]
  },
  {
   "cell_type": "code",
   "execution_count": null,
   "metadata": {},
   "outputs": [],
   "source": []
  },
  {
   "cell_type": "code",
   "execution_count": 19,
   "metadata": {},
   "outputs": [],
   "source": [
    "class_name_to_glove = {}\n",
    "with open('datasets/coco/zero-shot/glove.6B.300d.txt', 'r') as fin:\n",
    "    for row in fin:\n",
    "        row_tk = row.split()\n",
    "        if row_tk[0] in class_name_to_split:\n",
    "            class_name_to_glove[row_tk[0]] = [float(num) for num in row_tk[1:]]\n"
   ]
  },
  {
   "cell_type": "code",
   "execution_count": 20,
   "metadata": {},
   "outputs": [
    {
     "data": {
      "text/plain": [
       "['Aortic enlargement',\n",
       " 'Atelectasis',\n",
       " 'Calcification',\n",
       " 'Cardiomegaly',\n",
       " 'Consolidation',\n",
       " 'ILD',\n",
       " 'Infiltration',\n",
       " 'Lung Opacity',\n",
       " 'Nodule/Mass',\n",
       " 'Other lesion',\n",
       " 'Pleural effusion',\n",
       " 'Pleural thickening',\n",
       " 'Pneumothorax',\n",
       " 'Pulmonary fibrosis',\n",
       " 'No finding']"
      ]
     },
     "execution_count": 20,
     "metadata": {},
     "output_type": "execute_result"
    }
   ],
   "source": [
    "labels_seen"
   ]
  },
  {
   "cell_type": "code",
   "execution_count": 21,
   "metadata": {},
   "outputs": [],
   "source": [
    "bert = BERT(cfg)"
   ]
  },
  {
   "cell_type": "code",
   "execution_count": 22,
   "metadata": {},
   "outputs": [],
   "source": [
    "_ = bert.to('cuda')"
   ]
  },
  {
   "cell_type": "code",
   "execution_count": 23,
   "metadata": {},
   "outputs": [],
   "source": [
    "class_name_to_bertemb = {}\n",
    "for c in class_name_to_split:\n",
    "    inputs = bert.tokenizer(c, return_tensors='pt')\n",
    "    token_ids = inputs['input_ids'][0]\n",
    "    token_embeddings = bert.embeddings[token_ids]\n",
    "    embedding = token_embeddings.mean(dim=0)\n",
    "    # print(token_embeddings)\n",
    "    # print(embedding)\n",
    "    # print(inputs)\n",
    "    # print(token_ids)\n",
    "    # if c not in bert.tokenizer.vocab:\n",
    "    #     print(f'{c} not found')\n",
    "    #     continue\n",
    "    # cid = bert.tokenizer.vocab[c]\n",
    "    # class_name_to_bertemb[c] = bert.embeddings[cid]\n",
    "    class_name_to_bertemb[c] = embedding\n"
   ]
  },
  {
   "cell_type": "code",
   "execution_count": 24,
   "metadata": {},
   "outputs": [],
   "source": [
    "class_list = list(class_name_to_split.keys())\n"
   ]
  },
  {
   "cell_type": "code",
   "execution_count": 25,
   "metadata": {},
   "outputs": [
    {
     "name": "stderr",
     "output_type": "stream",
     "text": [
      "/workspace/anaconda3/envs/codet/lib/python3.8/site-packages/transformers/tokenization_utils_base.py:2834: FutureWarning: The `pad_to_max_length` argument is deprecated and will be removed in a future version, use `padding=True` or `padding='longest'` to pad to the longest sequence in the batch, or use `padding='max_length'` to pad to a max length. In this case, you can give a specific length with `max_length` (e.g. `max_length=45`) or leave max_length to None to pad to the maximal input size of the model (e.g. 512 for Bert).\n",
      "  warnings.warn(\n"
     ]
    }
   ],
   "source": [
    "encoded_class_list = bert(class_list)"
   ]
  },
  {
   "cell_type": "code",
   "execution_count": 26,
   "metadata": {},
   "outputs": [],
   "source": [
    "mask = (1 - encoded_class_list['special_tokens_mask']).to(torch.float32)"
   ]
  },
  {
   "cell_type": "code",
   "execution_count": 27,
   "metadata": {},
   "outputs": [
    {
     "data": {
      "text/plain": [
       "tensor([6., 4., 5., 2., 5., 3., 3., 3., 3., 6., 4., 1., 2., 5., 4.],\n",
       "       device='cuda:0')"
      ]
     },
     "execution_count": 27,
     "metadata": {},
     "output_type": "execute_result"
    }
   ],
   "source": [
    "mask.sum(-1)"
   ]
  },
  {
   "cell_type": "code",
   "execution_count": 28,
   "metadata": {},
   "outputs": [],
   "source": [
    "embeddings = (encoded_class_list['input_embeddings'] * mask[:, :, None]).sum(1) / mask.sum(1)[:, None]"
   ]
  },
  {
   "cell_type": "code",
   "execution_count": 29,
   "metadata": {},
   "outputs": [],
   "source": [
    "embeddings = embeddings.cpu().numpy()"
   ]
  },
  {
   "cell_type": "code",
   "execution_count": 30,
   "metadata": {},
   "outputs": [
    {
     "data": {
      "text/plain": [
       "(15, 768)"
      ]
     },
     "execution_count": 30,
     "metadata": {},
     "output_type": "execute_result"
    }
   ],
   "source": [
    "embeddings.shape"
   ]
  },
  {
   "cell_type": "code",
   "execution_count": 31,
   "metadata": {},
   "outputs": [],
   "source": [
    "class_name_to_bertemb = {}\n",
    "for c, emb in zip(class_list, embeddings.tolist()):\n",
    "    class_name_to_bertemb[c] = emb"
   ]
  },
  {
   "cell_type": "code",
   "execution_count": 32,
   "metadata": {},
   "outputs": [
    {
     "data": {
      "text/plain": [
       "(15, 0, 15)"
      ]
     },
     "execution_count": 32,
     "metadata": {},
     "output_type": "execute_result"
    }
   ],
   "source": [
    "len(class_name_to_bertemb), len(class_name_to_glove), len(class_name_to_split)"
   ]
  },
  {
   "cell_type": "code",
   "execution_count": null,
   "metadata": {},
   "outputs": [],
   "source": []
  },
  {
   "cell_type": "code",
   "execution_count": 51,
   "metadata": {},
   "outputs": [],
   "source": [
    "def filter_annotation(anno_dict, split_name_list):\n",
    "    filtered_categories = []\n",
    "    print(split_name_list)\n",
    "    for item in anno_dict['categories']:\n",
    "        if class_id_to_split.get(item['id']) in split_name_list:\n",
    "            print(item)\n",
    "            item['embedding'] = {}\n",
    "            # item['embedding']['GloVE'] = class_name_to_glove[item['name']]\n",
    "            item['embedding']['BertEmb'] = class_name_to_bertemb[item['name']]\n",
    "            item['split'] = class_id_to_split.get(item['id'])\n",
    "            filtered_categories.append(item)\n",
    "    anno_dict['categories'] = filtered_categories\n",
    "    # print(filtered_categories)\n",
    "    \n",
    "    filtered_images = []\n",
    "    filtered_annotations = []\n",
    "    useful_image_ids = set()\n",
    "    for item in anno_dict['annotations']:\n",
    "        if class_id_to_split.get(item['category_id']) in split_name_list:\n",
    "            filtered_annotations.append(item)\n",
    "            useful_image_ids.add(item['image_id'])\n",
    "    for item in anno_dict['images']:\n",
    "        \n",
    "        if item['id'] in useful_image_ids:\n",
    "            filtered_images.append(item)\n",
    "    anno_dict['annotations'] = filtered_annotations\n",
    "    anno_dict['images'] = filtered_images    "
   ]
  },
  {
   "cell_type": "code",
   "execution_count": 34,
   "metadata": {},
   "outputs": [
    {
     "name": "stdout",
     "output_type": "stream",
     "text": [
      "[{'id': 14, 'name': 'No finding', 'supercategory': ''}, {'id': 3, 'name': 'Cardiomegaly', 'supercategory': ''}, {'id': 0, 'name': 'Aortic enlargement', 'supercategory': ''}, {'id': 11, 'name': 'Pleural thickening', 'supercategory': ''}, {'id': 5, 'name': 'ILD', 'supercategory': ''}, {'id': 8, 'name': 'Nodule/Mass', 'supercategory': ''}, {'id': 13, 'name': 'Pulmonary fibrosis', 'supercategory': ''}, {'id': 7, 'name': 'Lung Opacity', 'supercategory': ''}, {'id': 1, 'name': 'Atelectasis', 'supercategory': ''}, {'id': 9, 'name': 'Other lesion', 'supercategory': ''}, {'id': 6, 'name': 'Infiltration', 'supercategory': ''}, {'id': 10, 'name': 'Pleural effusion', 'supercategory': ''}, {'id': 2, 'name': 'Calcification', 'supercategory': ''}, {'id': 4, 'name': 'Consolidation', 'supercategory': ''}, {'id': 12, 'name': 'Pneumothorax', 'supercategory': ''}]\n"
     ]
    }
   ],
   "source": [
    "print(coco_train_anno_seen['categories'])"
   ]
  },
  {
   "cell_type": "code",
   "execution_count": 35,
   "metadata": {},
   "outputs": [
    {
     "name": "stdout",
     "output_type": "stream",
     "text": [
      "dict_keys([])\n"
     ]
    }
   ],
   "source": [
    "print(class_name_to_glove.keys())"
   ]
  },
  {
   "cell_type": "code",
   "execution_count": 36,
   "metadata": {},
   "outputs": [
    {
     "name": "stdout",
     "output_type": "stream",
     "text": [
      "['seen']\n"
     ]
    }
   ],
   "source": [
    "print(['seen'])"
   ]
  },
  {
   "cell_type": "code",
   "execution_count": 37,
   "metadata": {
    "scrolled": true
   },
   "outputs": [
    {
     "name": "stdout",
     "output_type": "stream",
     "text": [
      "['seen']\n",
      "{'id': 14, 'name': 'No finding', 'supercategory': ''}\n",
      "{'id': 3, 'name': 'Cardiomegaly', 'supercategory': ''}\n",
      "{'id': 0, 'name': 'Aortic enlargement', 'supercategory': ''}\n",
      "{'id': 11, 'name': 'Pleural thickening', 'supercategory': ''}\n",
      "{'id': 5, 'name': 'ILD', 'supercategory': ''}\n",
      "{'id': 8, 'name': 'Nodule/Mass', 'supercategory': ''}\n",
      "{'id': 13, 'name': 'Pulmonary fibrosis', 'supercategory': ''}\n",
      "{'id': 7, 'name': 'Lung Opacity', 'supercategory': ''}\n",
      "{'id': 1, 'name': 'Atelectasis', 'supercategory': ''}\n",
      "{'id': 9, 'name': 'Other lesion', 'supercategory': ''}\n",
      "{'id': 6, 'name': 'Infiltration', 'supercategory': ''}\n",
      "{'id': 10, 'name': 'Pleural effusion', 'supercategory': ''}\n",
      "{'id': 2, 'name': 'Calcification', 'supercategory': ''}\n",
      "{'id': 4, 'name': 'Consolidation', 'supercategory': ''}\n",
      "{'id': 12, 'name': 'Pneumothorax', 'supercategory': ''}\n"
     ]
    }
   ],
   "source": [
    "filter_annotation(coco_train_anno_seen, ['seen'])"
   ]
  },
  {
   "cell_type": "code",
   "execution_count": 52,
   "metadata": {},
   "outputs": [
    {
     "name": "stdout",
     "output_type": "stream",
     "text": [
      "['unseen']\n"
     ]
    }
   ],
   "source": [
    "filter_annotation(coco_train_anno_unseen, ['unseen'])"
   ]
  },
  {
   "cell_type": "code",
   "execution_count": 39,
   "metadata": {},
   "outputs": [
    {
     "name": "stdout",
     "output_type": "stream",
     "text": [
      "['seen', 'unseen']\n",
      "{'id': 14, 'name': 'No finding', 'supercategory': ''}\n",
      "{'id': 3, 'name': 'Cardiomegaly', 'supercategory': ''}\n",
      "{'id': 0, 'name': 'Aortic enlargement', 'supercategory': ''}\n",
      "{'id': 11, 'name': 'Pleural thickening', 'supercategory': ''}\n",
      "{'id': 5, 'name': 'ILD', 'supercategory': ''}\n",
      "{'id': 8, 'name': 'Nodule/Mass', 'supercategory': ''}\n",
      "{'id': 13, 'name': 'Pulmonary fibrosis', 'supercategory': ''}\n",
      "{'id': 7, 'name': 'Lung Opacity', 'supercategory': ''}\n",
      "{'id': 1, 'name': 'Atelectasis', 'supercategory': ''}\n",
      "{'id': 9, 'name': 'Other lesion', 'supercategory': ''}\n",
      "{'id': 6, 'name': 'Infiltration', 'supercategory': ''}\n",
      "{'id': 10, 'name': 'Pleural effusion', 'supercategory': ''}\n",
      "{'id': 2, 'name': 'Calcification', 'supercategory': ''}\n",
      "{'id': 4, 'name': 'Consolidation', 'supercategory': ''}\n",
      "{'id': 12, 'name': 'Pneumothorax', 'supercategory': ''}\n"
     ]
    }
   ],
   "source": [
    "filter_annotation(coco_train_anno_all, ['seen', 'unseen'])"
   ]
  },
  {
   "cell_type": "code",
   "execution_count": 40,
   "metadata": {},
   "outputs": [
    {
     "name": "stdout",
     "output_type": "stream",
     "text": [
      "['seen']\n",
      "{'id': 0, 'name': 'Aortic enlargement', 'supercategory': ''}\n",
      "{'id': 13, 'name': 'Pulmonary fibrosis', 'supercategory': ''}\n",
      "{'id': 3, 'name': 'Cardiomegaly', 'supercategory': ''}\n",
      "{'id': 14, 'name': 'No finding', 'supercategory': ''}\n",
      "{'id': 11, 'name': 'Pleural thickening', 'supercategory': ''}\n",
      "{'id': 9, 'name': 'Other lesion', 'supercategory': ''}\n",
      "{'id': 1, 'name': 'Atelectasis', 'supercategory': ''}\n",
      "{'id': 6, 'name': 'Infiltration', 'supercategory': ''}\n",
      "{'id': 7, 'name': 'Lung Opacity', 'supercategory': ''}\n",
      "{'id': 10, 'name': 'Pleural effusion', 'supercategory': ''}\n",
      "{'id': 8, 'name': 'Nodule/Mass', 'supercategory': ''}\n",
      "{'id': 4, 'name': 'Consolidation', 'supercategory': ''}\n",
      "{'id': 5, 'name': 'ILD', 'supercategory': ''}\n",
      "{'id': 12, 'name': 'Pneumothorax', 'supercategory': ''}\n",
      "{'id': 2, 'name': 'Calcification', 'supercategory': ''}\n"
     ]
    }
   ],
   "source": [
    "filter_annotation(coco_val_anno_seen, ['seen'])"
   ]
  },
  {
   "cell_type": "code",
   "execution_count": 41,
   "metadata": {},
   "outputs": [
    {
     "name": "stdout",
     "output_type": "stream",
     "text": [
      "['unseen']\n"
     ]
    }
   ],
   "source": [
    "filter_annotation(coco_val_anno_unseen, ['unseen'])"
   ]
  },
  {
   "cell_type": "code",
   "execution_count": 42,
   "metadata": {},
   "outputs": [
    {
     "name": "stdout",
     "output_type": "stream",
     "text": [
      "['seen', 'unseen']\n",
      "{'id': 0, 'name': 'Aortic enlargement', 'supercategory': ''}\n",
      "{'id': 13, 'name': 'Pulmonary fibrosis', 'supercategory': ''}\n",
      "{'id': 3, 'name': 'Cardiomegaly', 'supercategory': ''}\n",
      "{'id': 14, 'name': 'No finding', 'supercategory': ''}\n",
      "{'id': 11, 'name': 'Pleural thickening', 'supercategory': ''}\n",
      "{'id': 9, 'name': 'Other lesion', 'supercategory': ''}\n",
      "{'id': 1, 'name': 'Atelectasis', 'supercategory': ''}\n",
      "{'id': 6, 'name': 'Infiltration', 'supercategory': ''}\n",
      "{'id': 7, 'name': 'Lung Opacity', 'supercategory': ''}\n",
      "{'id': 10, 'name': 'Pleural effusion', 'supercategory': ''}\n",
      "{'id': 8, 'name': 'Nodule/Mass', 'supercategory': ''}\n",
      "{'id': 4, 'name': 'Consolidation', 'supercategory': ''}\n",
      "{'id': 5, 'name': 'ILD', 'supercategory': ''}\n",
      "{'id': 12, 'name': 'Pneumothorax', 'supercategory': ''}\n",
      "{'id': 2, 'name': 'Calcification', 'supercategory': ''}\n"
     ]
    }
   ],
   "source": [
    "filter_annotation(coco_val_anno_all, ['seen', 'unseen'])"
   ]
  },
  {
   "cell_type": "code",
   "execution_count": 43,
   "metadata": {},
   "outputs": [
    {
     "data": {
      "text/plain": [
       "(15, 0, 15)"
      ]
     },
     "execution_count": 43,
     "metadata": {},
     "output_type": "execute_result"
    }
   ],
   "source": [
    "len(coco_val_anno_seen['categories']), len(coco_val_anno_unseen['categories']), len(coco_val_anno_all['categories'])"
   ]
  },
  {
   "cell_type": "code",
   "execution_count": 44,
   "metadata": {},
   "outputs": [],
   "source": [
    "# coco_train_anno_seen['categories']"
   ]
  },
  {
   "cell_type": "code",
   "execution_count": 45,
   "metadata": {},
   "outputs": [],
   "source": [
    "with open('datasets/vindr/zero-shot/instances_train_seen_2.json', 'w') as fout:\n",
    "    json.dump(coco_train_anno_seen, fout)"
   ]
  },
  {
   "cell_type": "code",
   "execution_count": 53,
   "metadata": {},
   "outputs": [],
   "source": [
    "with open('datasets/vindr/zero-shot/instances_train_unseen_2.json', 'w') as fout:\n",
    "    json.dump(coco_train_anno_unseen, fout)"
   ]
  },
  {
   "cell_type": "code",
   "execution_count": 47,
   "metadata": {},
   "outputs": [],
   "source": [
    "with open('datasets/vindr/zero-shot/instances_train_all_2.json', 'w') as fout:\n",
    "    json.dump(coco_train_anno_all, fout)"
   ]
  },
  {
   "cell_type": "code",
   "execution_count": 48,
   "metadata": {},
   "outputs": [],
   "source": [
    "with open('datasets/vindr/zero-shot/instances_val_seen_2.json', 'w') as fout:\n",
    "    json.dump(coco_val_anno_seen, fout)"
   ]
  },
  {
   "cell_type": "code",
   "execution_count": 49,
   "metadata": {},
   "outputs": [],
   "source": [
    "with open('datasets/vindr/zero-shot/instances_val_unseen_2.json', 'w') as fout:\n",
    "    json.dump(coco_val_anno_unseen, fout)"
   ]
  },
  {
   "cell_type": "code",
   "execution_count": 50,
   "metadata": {},
   "outputs": [],
   "source": [
    "with open('datasets/vindr/zero-shot/instances_val_all_2.json', 'w') as fout:\n",
    "    json.dump(coco_val_anno_all, fout)"
   ]
  },
  {
   "cell_type": "code",
   "execution_count": null,
   "metadata": {},
   "outputs": [],
   "source": []
  },
  {
   "cell_type": "code",
   "execution_count": null,
   "metadata": {},
   "outputs": [],
   "source": []
  },
  {
   "cell_type": "code",
   "execution_count": null,
   "metadata": {},
   "outputs": [],
   "source": []
  },
  {
   "cell_type": "code",
   "execution_count": null,
   "metadata": {},
   "outputs": [],
   "source": []
  }
 ],
 "metadata": {
  "environment": {
   "name": "pytorch-gpu.1-4.m46",
   "type": "gcloud",
   "uri": "gcr.io/deeplearning-platform-release/pytorch-gpu.1-4:m46"
  },
  "kernelspec": {
   "display_name": "codet",
   "language": "python",
   "name": "codet"
  },
  "language_info": {
   "codemirror_mode": {
    "name": "ipython",
    "version": 3
   },
   "file_extension": ".py",
   "mimetype": "text/x-python",
   "name": "python",
   "nbconvert_exporter": "python",
   "pygments_lexer": "ipython3",
   "version": "3.8.20"
  }
 },
 "nbformat": 4,
 "nbformat_minor": 4
}
